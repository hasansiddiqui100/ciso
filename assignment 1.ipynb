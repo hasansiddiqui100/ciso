{
 "cells": [
  {
   "cell_type": "code",
   "execution_count": 1,
   "metadata": {},
   "outputs": [
    {
     "name": "stdout",
     "output_type": "stream",
     "text": [
      "Twinkle,Twinkle,little star,\n",
      "\tHow i wonder what you are!\n",
      "\t\tUp above the world so high,\n",
      "\t\tLike a diamond in the sky.\n",
      "Twinkl twinkle little star,\n",
      "\tHow i wonder what yoy are!\n"
     ]
    }
   ],
   "source": [
    "print(\"Twinkle,Twinkle,little star,\\n\\tHow i wonder what you are!\\n\\t\\tUp above the world so high,\\n\\t\\tLike a diamond in the sky.\\nTwinkl twinkle little star,\\n\\tHow i wonder what yoy are!\")"
   ]
  },
  {
   "cell_type": "code",
   "execution_count": 2,
   "metadata": {},
   "outputs": [
    {
     "name": "stdout",
     "output_type": "stream",
     "text": [
      "3.7.4 (default, Aug  9 2019, 18:34:13) [MSC v.1915 64 bit (AMD64)]\n"
     ]
    }
   ],
   "source": [
    "import sys\n",
    "print(sys.version)"
   ]
  },
  {
   "cell_type": "code",
   "execution_count": 3,
   "metadata": {},
   "outputs": [
    {
     "name": "stdout",
     "output_type": "stream",
     "text": [
      "2019-12-21 15:17:43\n"
     ]
    }
   ],
   "source": [
    "from calendar import datetime\n",
    "now=datetime.datetime.now()\n",
    "print(now.strftime(\"%Y-%m-%d %H:%M:%S\"))"
   ]
  },
  {
   "cell_type": "code",
   "execution_count": 4,
   "metadata": {},
   "outputs": [
    {
     "name": "stdout",
     "output_type": "stream",
     "text": [
      "Input the radius of circle:5\n",
      "78.55\n"
     ]
    }
   ],
   "source": [
    "r=float(input(\"Input the radius of circle:\"))\n",
    "a=3.142*r**2\n",
    "print(a)"
   ]
  },
  {
   "cell_type": "code",
   "execution_count": 5,
   "metadata": {},
   "outputs": [
    {
     "name": "stdout",
     "output_type": "stream",
     "text": [
      "Enter your first name:hassan\n",
      "Enter your last name:siddiqui\n",
      "siddiqui hassan\n"
     ]
    }
   ],
   "source": [
    "fname=input(\"Enter your first name:\")\n",
    "lname=input(\"Enter your last name:\")\n",
    "print(lname+ \" \" +fname)"
   ]
  },
  {
   "cell_type": "code",
   "execution_count": 6,
   "metadata": {},
   "outputs": [
    {
     "name": "stdout",
     "output_type": "stream",
     "text": [
      "Enter a number:45\n",
      "Enter another number:6\n",
      "51.0\n"
     ]
    }
   ],
   "source": [
    "a=float(input(\"Enter a number:\"))\n",
    "b=float(input(\"Enter another number:\"))\n",
    "s=a+b\n",
    "print(s)"
   ]
  },
  {
   "cell_type": "code",
   "execution_count": null,
   "metadata": {},
   "outputs": [],
   "source": []
  }
 ],
 "metadata": {
  "kernelspec": {
   "display_name": "Python 3",
   "language": "python",
   "name": "python3"
  },
  "language_info": {
   "codemirror_mode": {
    "name": "ipython",
    "version": 3
   },
   "file_extension": ".py",
   "mimetype": "text/x-python",
   "name": "python",
   "nbconvert_exporter": "python",
   "pygments_lexer": "ipython3",
   "version": "3.7.4"
  }
 },
 "nbformat": 4,
 "nbformat_minor": 2
}
