{
 "cells": [
  {
   "cell_type": "code",
   "execution_count": 2,
   "metadata": {},
   "outputs": [
    {
     "name": "stdout",
     "output_type": "stream",
     "text": [
      "Enter marks of subject 1:25\n",
      "Enter marks of subject 2:67\n",
      "Enter marks of subject 3:87\n",
      "Enter marks of subject 4:65\n",
      "Enter marks of subject 5:45\n",
      "You are fail\n"
     ]
    }
   ],
   "source": [
    "#Write a program which takes 5 inputs from user for different subject’s marks, total it and generate mark sheet using grades ?\n",
    "total=500\n",
    "m1=float(input(\"Enter marks of subject 1:\"))\n",
    "m2=float(input(\"Enter marks of subject 2:\"))\n",
    "m3=float(input(\"Enter marks of subject 3:\"))\n",
    "m4=float(input(\"Enter marks of subject 4:\"))\n",
    "m5=float(input(\"Enter marks of subject 5:\"))\n",
    "sum=m1+m2+m3+m4+m5\n",
    "per=(sum/500)*100\n",
    "if per>=90:\n",
    "    print(\"Grade is A+\")\n",
    "elif per<90 and per>=80:\n",
    "    print(\"Grade is A\")\n",
    "elif per<80 and per>70:\n",
    "    print(\"Grade is B\")\n",
    "elif per<70 and per>=60:\n",
    "    print(\"Grade is C\")\n",
    "elif per<60 and per>=70:\n",
    "    print(\"Grade is D\")\n",
    "else:\n",
    "    print(\"You are fail\")"
   ]
  },
  {
   "cell_type": "code",
   "execution_count": 3,
   "metadata": {},
   "outputs": [
    {
     "name": "stdout",
     "output_type": "stream",
     "text": [
      "Enter a number:24\n",
      "24  is even number\n"
     ]
    }
   ],
   "source": [
    "#2. Write a program which take input from user and identify that the given number is even or odd?\n",
    "n=int(input(\"Enter a number:\"))\n",
    "if n%2==0:\n",
    "    print(n,\" is even number\")\n",
    "else:\n",
    "    print(n,\" is odd number\")"
   ]
  },
  {
   "cell_type": "code",
   "execution_count": 4,
   "metadata": {},
   "outputs": [
    {
     "data": {
      "text/plain": [
       "9"
      ]
     },
     "execution_count": 4,
     "metadata": {},
     "output_type": "execute_result"
    }
   ],
   "source": [
    "#3. Write a program which print the length of the list?\n",
    "a=[4,6,3,7,9,2,5,66,4]\n",
    "len(a)"
   ]
  },
  {
   "cell_type": "code",
   "execution_count": 5,
   "metadata": {},
   "outputs": [
    {
     "name": "stdout",
     "output_type": "stream",
     "text": [
      "Sum of all elements in given list:  74\n"
     ]
    }
   ],
   "source": [
    "#4. Write a Python program to sum all the numeric items in a list?\n",
    "total = 0\n",
    "list1 = [11, 5, 17, 18, 23]  \n",
    "for ele in range(0, len(list1)): \n",
    "    total = total + list1[ele] \n",
    "print(\"Sum of all elements in given list: \", (total) ) "
   ]
  },
  {
   "cell_type": "code",
   "execution_count": 6,
   "metadata": {},
   "outputs": [
    {
     "data": {
      "text/plain": [
       "66"
      ]
     },
     "execution_count": 6,
     "metadata": {},
     "output_type": "execute_result"
    }
   ],
   "source": [
    "#5. Write a Python program to get the largest number from a numeric list.\n",
    "a=[4,6,3,7,9,2,5,66,4]\n",
    "max(a)"
   ]
  },
  {
   "cell_type": "code",
   "execution_count": 11,
   "metadata": {},
   "outputs": [
    {
     "name": "stdout",
     "output_type": "stream",
     "text": [
      "Enter a list:1,43,5,6,3\n",
      "1 3 "
     ]
    }
   ],
   "source": [
    "#6. Take a list, say for example this one: a = [1, 1, 2, 3, 5, 8, 13, 21, 34, 55, 89] and write a program that prints out all the elements of the list that are less than 5.\n",
    "list=eval(input(\"Enter a list:\"))\n",
    "for i in list:\n",
    "    if i<5:\n",
    "        print(i,end=\" \")"
   ]
  },
  {
   "cell_type": "code",
   "execution_count": null,
   "metadata": {},
   "outputs": [],
   "source": []
  },
  {
   "cell_type": "code",
   "execution_count": null,
   "metadata": {},
   "outputs": [],
   "source": []
  }
 ],
 "metadata": {
  "kernelspec": {
   "display_name": "Python 3",
   "language": "python",
   "name": "python3"
  },
  "language_info": {
   "codemirror_mode": {
    "name": "ipython",
    "version": 3
   },
   "file_extension": ".py",
   "mimetype": "text/x-python",
   "name": "python",
   "nbconvert_exporter": "python",
   "pygments_lexer": "ipython3",
   "version": "3.7.4"
  }
 },
 "nbformat": 4,
 "nbformat_minor": 2
}
