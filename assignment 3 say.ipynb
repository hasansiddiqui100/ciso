{
 "cells": [
  {
   "cell_type": "code",
   "execution_count": 1,
   "metadata": {},
   "outputs": [
    {
     "name": "stdout",
     "output_type": "stream",
     "text": [
      "Enter a number:2\n",
      "Enter operator:**\n",
      "Enter a number:3\n",
      "4.0 9.0\n"
     ]
    }
   ],
   "source": [
    "#Task 1\n",
    "\n",
    "a=float(input(\"Enter a number:\"))\n",
    "op=input(\"Enter operator:\")\n",
    "b=float(input(\"Enter a number:\"))\n",
    "if op=='+':\n",
    "    print(a+b)\n",
    "elif op=='-':\n",
    "    print(a-b)\n",
    "elif op=='*':\n",
    "    print(a*b)\n",
    "elif op=='/':\n",
    "    print(a/b)\n",
    "elif op=='**':\n",
    "    print(a**2,b**2)"
   ]
  },
  {
   "cell_type": "code",
   "execution_count": 2,
   "metadata": {},
   "outputs": [
    {
     "name": "stdout",
     "output_type": "stream",
     "text": [
      "850\n"
     ]
    }
   ],
   "source": [
    "#Task 4\n",
    "x={1:200,2:234,2:650}\n",
    "print(sum(x.values()))"
   ]
  },
  {
   "cell_type": "code",
   "execution_count": 5,
   "metadata": {},
   "outputs": [
    {
     "data": {
      "text/plain": [
       "{'a': 'hasan', 'b': 'siddiqui', 'c': 'chohan'}"
      ]
     },
     "execution_count": 5,
     "metadata": {},
     "output_type": "execute_result"
    }
   ],
   "source": [
    "#task 3\n",
    "y={'a':'hasan','b':'siddiqui'}\n",
    "y.update({'c':'chohan'})\n",
    "y"
   ]
  },
  {
   "cell_type": "code",
   "execution_count": 6,
   "metadata": {},
   "outputs": [
    {
     "name": "stdout",
     "output_type": "stream",
     "text": [
      "Enter a key:2\n",
      "Key exist\n"
     ]
    }
   ],
   "source": [
    "#Task 6\n",
    "x= {1: 342, 2: 657, 3: 769, 4: 110}\n",
    "a=int(input(\"Enter a key:\"))\n",
    "if a in x:\n",
    "        print(\"Key exist\")\n",
    "else:\n",
    "        print(\"Key does not exist\")"
   ]
  },
  {
   "cell_type": "code",
   "execution_count": null,
   "metadata": {},
   "outputs": [],
   "source": []
  }
 ],
 "metadata": {
  "kernelspec": {
   "display_name": "Python 3",
   "language": "python",
   "name": "python3"
  },
  "language_info": {
   "codemirror_mode": {
    "name": "ipython",
    "version": 3
   },
   "file_extension": ".py",
   "mimetype": "text/x-python",
   "name": "python",
   "nbconvert_exporter": "python",
   "pygments_lexer": "ipython3",
   "version": "3.7.4"
  }
 },
 "nbformat": 4,
 "nbformat_minor": 2
}
